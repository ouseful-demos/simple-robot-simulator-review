{
 "cells": [
  {
   "cell_type": "markdown",
   "metadata": {},
   "source": [
    "# Simple `ipyturtle` Demo\n",
    "\n",
    "The `ipyturtle` package [[repository](https://github.com/gkvoelkl/ipython-turtle-widget)] embeds an animated canvas within a Jupyter notebook that can be uused to display the behaviour of a simple turtle.\n",
    "\n",
    "By default, the package requires that we define a turtle object and then run methods from that object to control the turtle.\n",
    "\n",
    "However, we can also create a simple shim that allows us to create a default turtle and then just run simple turtle commands that will be applied to that turtle object."
   ]
  },
  {
   "cell_type": "code",
   "execution_count": 1,
   "metadata": {},
   "outputs": [
    {
     "data": {
      "application/vnd.jupyter.widget-view+json": {
       "model_id": "353fc504131c43dc9dc7184e5624b707",
       "version_major": 2,
       "version_minor": 0
      },
      "text/plain": [
       "Turtle()"
      ]
     },
     "metadata": {},
     "output_type": "display_data"
    }
   ],
   "source": [
    "#Note that you must run this import statement on its own within a code cell\n",
    "#Once the module is loaded, it returns the Turtle canvas and then displays it\n",
    "from tm112_turtle import *"
   ]
  },
  {
   "cell_type": "markdown",
   "metadata": {},
   "source": [
    "Calling the basic turtle commands will conrol the behaviour of the turtle."
   ]
  },
  {
   "cell_type": "code",
   "execution_count": 3,
   "metadata": {},
   "outputs": [],
   "source": [
    "# Draw triangle\n",
    "\n",
    "reset()\n",
    "\n",
    "for sides in range(0,3):\n",
    "    forward (40)\n",
    "    left(120)\n"
   ]
  },
  {
   "cell_type": "markdown",
   "metadata": {},
   "source": [
    "Executing further commands will continue to apply them to the turtle in the floating canvas.\n",
    "\n",
    "For example, let's define a simple function to draw an equilateral triangle:"
   ]
  },
  {
   "cell_type": "code",
   "execution_count": 4,
   "metadata": {},
   "outputs": [],
   "source": [
    "def draw_triangle(side):\n",
    "    \"\"\"Draw an equilateral triangle with sides of length side units \"\"\"\n",
    "    for sides in range(0,3):\n",
    "        forward (side)\n",
    "        left(120)"
   ]
  },
  {
   "cell_type": "markdown",
   "metadata": {},
   "source": [
    "Start with a single triangle drawn onto a reset display:"
   ]
  },
  {
   "cell_type": "code",
   "execution_count": 9,
   "metadata": {},
   "outputs": [],
   "source": [
    "reset()\n",
    "\n",
    "# Draw a triangle with sides of 60 units\n",
    "draw_triangle(40)"
   ]
  },
  {
   "cell_type": "markdown",
   "metadata": {},
   "source": [
    "If we apply further commands, they are applied to the same turtle and can be used to build up the displayed trace:"
   ]
  },
  {
   "cell_type": "code",
   "execution_count": 10,
   "metadata": {},
   "outputs": [],
   "source": [
    "# Move to position for second triangle\n",
    "penup ()\n",
    "forward (50)\n",
    "pendown()\n",
    "\n",
    "# Draw a triangle with sides of 70 units\n",
    "draw_triangle(50)\n",
    "\n",
    "# Move to position for third triangle\n",
    "penup()\n",
    "left (180)\n",
    "forward (50)\n",
    "right (90)\n",
    "forward (50)\n",
    "right (90)\n",
    "pendown ()\n",
    "\n",
    "# Draw a triangle with sides of 80 units\n",
    "draw_triangle(60)"
   ]
  },
  {
   "cell_type": "markdown",
   "metadata": {},
   "source": [
    "## Summary\n",
    "\n",
    "`ipyturtle` provides a simple turtle environment within a Jupyter notebook.\n",
    "\n",
    "A simple shim allows us to call turtle commands directly on a preloaded turtle canvas without first having to explitly define a turtle object and then apply commands as explicit methods on that object."
   ]
  }
 ],
 "metadata": {
  "kernelspec": {
   "display_name": "Python 3",
   "language": "python",
   "name": "python3"
  },
  "language_info": {
   "codemirror_mode": {
    "name": "ipython",
    "version": 3
   },
   "file_extension": ".py",
   "mimetype": "text/x-python",
   "name": "python",
   "nbconvert_exporter": "python",
   "pygments_lexer": "ipython3",
   "version": "3.7.3"
  }
 },
 "nbformat": 4,
 "nbformat_minor": 2
}
